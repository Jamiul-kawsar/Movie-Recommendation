{
 "cells": [
  {
   "cell_type": "code",
   "execution_count": 60,
   "metadata": {
    "_cell_guid": "b1076dfc-b9ad-4769-8c92-a6c4dae69d19",
    "_uuid": "8f2839f25d086af736a60e9eeb907d3b93b6e0e5",
    "execution": {
     "iopub.execute_input": "2025-01-16T10:01:22.109410Z",
     "iopub.status.busy": "2025-01-16T10:01:22.108927Z",
     "iopub.status.idle": "2025-01-16T10:01:22.114345Z",
     "shell.execute_reply": "2025-01-16T10:01:22.112776Z",
     "shell.execute_reply.started": "2025-01-16T10:01:22.109375Z"
    },
    "trusted": true
   },
   "outputs": [],
   "source": [
    "import pandas as pd"
   ]
  },
  {
   "cell_type": "code",
   "execution_count": 61,
   "metadata": {
    "execution": {
     "iopub.execute_input": "2025-01-16T10:01:22.115972Z",
     "iopub.status.busy": "2025-01-16T10:01:22.115531Z",
     "iopub.status.idle": "2025-01-16T10:01:22.276028Z",
     "shell.execute_reply": "2025-01-16T10:01:22.274870Z",
     "shell.execute_reply.started": "2025-01-16T10:01:22.115859Z"
    },
    "trusted": true
   },
   "outputs": [
    {
     "data": {
      "text/plain": [
       "Traceback (most recent call last):\n",
       "  File \"c:\\Users\\jamiu\\.vscode\\extensions\\ms-python.python-2024.22.2-win32-x64\\python_files\\python_server.py\", line 133, in exec_user_input\n",
       "    retval = callable_(user_input, user_globals)\n",
       "             ^^^^^^^^^^^^^^^^^^^^^^^^^^^^^^^^^^^\n",
       "  File \"<string>\", line 1, in <module>\n",
       "  File \"C:\\Users\\jamiu\\AppData\\Roaming\\Python\\Python312\\site-packages\\pandas\\io\\parsers\\readers.py\", line 1026, in read_csv\n",
       "    return _read(filepath_or_buffer, kwds)\n",
       "           ^^^^^^^^^^^^^^^^^^^^^^^^^^^^^^^\n",
       "  File \"C:\\Users\\jamiu\\AppData\\Roaming\\Python\\Python312\\site-packages\\pandas\\io\\parsers\\readers.py\", line 620, in _read\n",
       "    parser = TextFileReader(filepath_or_buffer, **kwds)\n",
       "             ^^^^^^^^^^^^^^^^^^^^^^^^^^^^^^^^^^^^^^^^^^\n",
       "  File \"C:\\Users\\jamiu\\AppData\\Roaming\\Python\\Python312\\site-packages\\pandas\\io\\parsers\\readers.py\", line 1620, in __init__\n",
       "    self._engine = self._make_engine(f, self.engine)\n",
       "                   ^^^^^^^^^^^^^^^^^^^^^^^^^^^^^^^^^\n",
       "  File \"C:\\Users\\jamiu\\AppData\\Roaming\\Python\\Python312\\site-packages\\pandas\\io\\parsers\\readers.py\", line 1880, in _make_engine\n",
       "    self.handles = get_handle(\n",
       "                   ^^^^^^^^^^^\n",
       "  File \"C:\\Users\\jamiu\\AppData\\Roaming\\Python\\Python312\\site-packages\\pandas\\io\\common.py\", line 873, in get_handle\n",
       "    handle = open(\n",
       "             ^^^^^\n",
       "FileNotFoundError: [Errno 2] No such file or directory: '/kaggle/input/tmdb-movies-dataset-10k/10000 Movies Data'\n",
       "\n"
      ]
     },
     "metadata": {},
     "output_type": "display_data"
    }
   ],
   "source": [
    "movies = pd.read_csv(\"/kaggle/input/tmdb-movies-dataset-10k/10000 Movies Data\")"
   ]
  },
  {
   "cell_type": "code",
   "execution_count": 62,
   "metadata": {
    "execution": {
     "iopub.execute_input": "2025-01-16T10:01:22.278701Z",
     "iopub.status.busy": "2025-01-16T10:01:22.278273Z",
     "iopub.status.idle": "2025-01-16T10:01:22.294766Z",
     "shell.execute_reply": "2025-01-16T10:01:22.293712Z",
     "shell.execute_reply.started": "2025-01-16T10:01:22.278669Z"
    },
    "trusted": true
   },
   "outputs": [
    {
     "data": {
      "text/plain": [
       "Traceback (most recent call last):\n",
       "  File \"c:\\Users\\jamiu\\.vscode\\extensions\\ms-python.python-2024.22.2-win32-x64\\python_files\\python_server.py\", line 133, in exec_user_input\n",
       "    retval = callable_(user_input, user_globals)\n",
       "             ^^^^^^^^^^^^^^^^^^^^^^^^^^^^^^^^^^^\n",
       "  File \"<string>\", line 1, in <module>\n",
       "NameError: name 'movies' is not defined\n",
       "\n"
      ]
     },
     "metadata": {},
     "output_type": "display_data"
    }
   ],
   "source": [
    "movies.head(10)"
   ]
  },
  {
   "cell_type": "code",
   "execution_count": 63,
   "metadata": {
    "execution": {
     "iopub.execute_input": "2025-01-16T10:01:22.296973Z",
     "iopub.status.busy": "2025-01-16T10:01:22.296598Z",
     "iopub.status.idle": "2025-01-16T10:01:22.341559Z",
     "shell.execute_reply": "2025-01-16T10:01:22.340625Z",
     "shell.execute_reply.started": "2025-01-16T10:01:22.296943Z"
    },
    "trusted": true
   },
   "outputs": [
    {
     "data": {
      "text/plain": [
       "Traceback (most recent call last):\n",
       "  File \"c:\\Users\\jamiu\\.vscode\\extensions\\ms-python.python-2024.22.2-win32-x64\\python_files\\python_server.py\", line 133, in exec_user_input\n",
       "    retval = callable_(user_input, user_globals)\n",
       "             ^^^^^^^^^^^^^^^^^^^^^^^^^^^^^^^^^^^\n",
       "  File \"<string>\", line 1, in <module>\n",
       "NameError: name 'movies' is not defined\n",
       "\n"
      ]
     },
     "metadata": {},
     "output_type": "display_data"
    }
   ],
   "source": [
    "movies.describe()"
   ]
  },
  {
   "cell_type": "code",
   "execution_count": 64,
   "metadata": {
    "execution": {
     "iopub.execute_input": "2025-01-16T10:01:22.343013Z",
     "iopub.status.busy": "2025-01-16T10:01:22.342597Z",
     "iopub.status.idle": "2025-01-16T10:01:22.359652Z",
     "shell.execute_reply": "2025-01-16T10:01:22.358448Z",
     "shell.execute_reply.started": "2025-01-16T10:01:22.342982Z"
    },
    "trusted": true
   },
   "outputs": [
    {
     "data": {
      "text/plain": [
       "Traceback (most recent call last):\n",
       "  File \"c:\\Users\\jamiu\\.vscode\\extensions\\ms-python.python-2024.22.2-win32-x64\\python_files\\python_server.py\", line 133, in exec_user_input\n",
       "    retval = callable_(user_input, user_globals)\n",
       "             ^^^^^^^^^^^^^^^^^^^^^^^^^^^^^^^^^^^\n",
       "  File \"<string>\", line 1, in <module>\n",
       "NameError: name 'movies' is not defined\n",
       "\n"
      ]
     },
     "metadata": {},
     "output_type": "display_data"
    }
   ],
   "source": [
    "movies.info()"
   ]
  },
  {
   "cell_type": "code",
   "execution_count": 65,
   "metadata": {
    "execution": {
     "iopub.execute_input": "2025-01-16T10:01:22.361513Z",
     "iopub.status.busy": "2025-01-16T10:01:22.360900Z",
     "iopub.status.idle": "2025-01-16T10:01:22.392547Z",
     "shell.execute_reply": "2025-01-16T10:01:22.391570Z",
     "shell.execute_reply.started": "2025-01-16T10:01:22.361470Z"
    },
    "trusted": true
   },
   "outputs": [
    {
     "data": {
      "text/plain": [
       "Traceback (most recent call last):\n",
       "  File \"c:\\Users\\jamiu\\.vscode\\extensions\\ms-python.python-2024.22.2-win32-x64\\python_files\\python_server.py\", line 133, in exec_user_input\n",
       "    retval = callable_(user_input, user_globals)\n",
       "             ^^^^^^^^^^^^^^^^^^^^^^^^^^^^^^^^^^^\n",
       "  File \"<string>\", line 2, in <module>\n",
       "NameError: name 'movies' is not defined\n",
       "\n"
      ]
     },
     "metadata": {},
     "output_type": "display_data"
    }
   ],
   "source": [
    "#find the missing values\n",
    "movies.isnull().sum()"
   ]
  },
  {
   "cell_type": "markdown",
   "metadata": {},
   "source": [
    "Feature selection part"
   ]
  },
  {
   "cell_type": "code",
   "execution_count": 66,
   "metadata": {
    "execution": {
     "iopub.execute_input": "2025-01-16T10:01:22.394459Z",
     "iopub.status.busy": "2025-01-16T10:01:22.393920Z",
     "iopub.status.idle": "2025-01-16T10:01:22.412877Z",
     "shell.execute_reply": "2025-01-16T10:01:22.411496Z",
     "shell.execute_reply.started": "2025-01-16T10:01:22.394390Z"
    },
    "trusted": true
   },
   "outputs": [
    {
     "data": {
      "text/plain": [
       "Traceback (most recent call last):\n",
       "  File \"c:\\Users\\jamiu\\.vscode\\extensions\\ms-python.python-2024.22.2-win32-x64\\python_files\\python_server.py\", line 133, in exec_user_input\n",
       "    retval = callable_(user_input, user_globals)\n",
       "             ^^^^^^^^^^^^^^^^^^^^^^^^^^^^^^^^^^^\n",
       "  File \"<string>\", line 1, in <module>\n",
       "NameError: name 'movies' is not defined\n",
       "\n"
      ]
     },
     "metadata": {},
     "output_type": "display_data"
    }
   ],
   "source": [
    "movies.columns"
   ]
  },
  {
   "cell_type": "code",
   "execution_count": 67,
   "metadata": {
    "execution": {
     "iopub.execute_input": "2025-01-16T10:01:22.416261Z",
     "iopub.status.busy": "2025-01-16T10:01:22.415948Z",
     "iopub.status.idle": "2025-01-16T10:01:22.433264Z",
     "shell.execute_reply": "2025-01-16T10:01:22.432025Z",
     "shell.execute_reply.started": "2025-01-16T10:01:22.416236Z"
    },
    "trusted": true
   },
   "outputs": [
    {
     "data": {
      "text/plain": [
       "Traceback (most recent call last):\n",
       "  File \"c:\\Users\\jamiu\\.vscode\\extensions\\ms-python.python-2024.22.2-win32-x64\\python_files\\python_server.py\", line 133, in exec_user_input\n",
       "    retval = callable_(user_input, user_globals)\n",
       "             ^^^^^^^^^^^^^^^^^^^^^^^^^^^^^^^^^^^\n",
       "  File \"<string>\", line 1, in <module>\n",
       "NameError: name 'movies' is not defined\n",
       "\n"
      ]
     },
     "metadata": {},
     "output_type": "display_data"
    }
   ],
   "source": [
    "movies = movies[['Movie_id','title','overview','Genres']]"
   ]
  },
  {
   "cell_type": "code",
   "execution_count": 68,
   "metadata": {
    "execution": {
     "iopub.execute_input": "2025-01-16T10:01:22.435919Z",
     "iopub.status.busy": "2025-01-16T10:01:22.435463Z",
     "iopub.status.idle": "2025-01-16T10:01:22.465130Z",
     "shell.execute_reply": "2025-01-16T10:01:22.463799Z",
     "shell.execute_reply.started": "2025-01-16T10:01:22.435875Z"
    },
    "trusted": true
   },
   "outputs": [
    {
     "data": {
      "text/plain": [
       "Traceback (most recent call last):\n",
       "  File \"c:\\Users\\jamiu\\.vscode\\extensions\\ms-python.python-2024.22.2-win32-x64\\python_files\\python_server.py\", line 133, in exec_user_input\n",
       "    retval = callable_(user_input, user_globals)\n",
       "             ^^^^^^^^^^^^^^^^^^^^^^^^^^^^^^^^^^^\n",
       "  File \"<string>\", line 2, in <module>\n",
       "NameError: name 'movies' is not defined\n",
       "\n"
      ]
     },
     "metadata": {},
     "output_type": "display_data"
    }
   ],
   "source": [
    "# make tags column adding overview and genres\n",
    "movies = movies.copy()\n",
    "movies['tags'] = movies['overview'] + movies['Genres']"
   ]
  },
  {
   "cell_type": "code",
   "execution_count": 69,
   "metadata": {
    "execution": {
     "iopub.execute_input": "2025-01-16T10:01:22.466737Z",
     "iopub.status.busy": "2025-01-16T10:01:22.466285Z",
     "iopub.status.idle": "2025-01-16T10:01:22.487964Z",
     "shell.execute_reply": "2025-01-16T10:01:22.486672Z",
     "shell.execute_reply.started": "2025-01-16T10:01:22.466651Z"
    },
    "trusted": true
   },
   "outputs": [
    {
     "data": {
      "text/plain": [
       "Traceback (most recent call last):\n",
       "  File \"c:\\Users\\jamiu\\.vscode\\extensions\\ms-python.python-2024.22.2-win32-x64\\python_files\\python_server.py\", line 133, in exec_user_input\n",
       "    retval = callable_(user_input, user_globals)\n",
       "             ^^^^^^^^^^^^^^^^^^^^^^^^^^^^^^^^^^^\n",
       "  File \"<string>\", line 2, in <module>\n",
       "NameError: name 'movies' is not defined\n",
       "\n"
      ]
     },
     "metadata": {},
     "output_type": "display_data"
    }
   ],
   "source": [
    "#drop the columns \n",
    "new_data = movies.drop(columns = ['overview', 'Genres'])"
   ]
  },
  {
   "cell_type": "code",
   "execution_count": 70,
   "metadata": {
    "execution": {
     "iopub.execute_input": "2025-01-16T10:01:22.489117Z",
     "iopub.status.busy": "2025-01-16T10:01:22.488836Z",
     "iopub.status.idle": "2025-01-16T10:01:22.511352Z",
     "shell.execute_reply": "2025-01-16T10:01:22.510123Z",
     "shell.execute_reply.started": "2025-01-16T10:01:22.489095Z"
    },
    "trusted": true
   },
   "outputs": [
    {
     "data": {
      "text/plain": [
       "Traceback (most recent call last):\n",
       "  File \"c:\\Users\\jamiu\\.vscode\\extensions\\ms-python.python-2024.22.2-win32-x64\\python_files\\python_server.py\", line 133, in exec_user_input\n",
       "    retval = callable_(user_input, user_globals)\n",
       "             ^^^^^^^^^^^^^^^^^^^^^^^^^^^^^^^^^^^\n",
       "  File \"<string>\", line 2, in <module>\n",
       "NameError: name 'new_data' is not defined\n",
       "\n"
      ]
     },
     "metadata": {},
     "output_type": "display_data"
    }
   ],
   "source": [
    "#handling missing data\n",
    "clean_data = new_data.dropna(axis = 0)"
   ]
  },
  {
   "cell_type": "code",
   "execution_count": 71,
   "metadata": {
    "execution": {
     "iopub.execute_input": "2025-01-16T10:01:22.513028Z",
     "iopub.status.busy": "2025-01-16T10:01:22.512659Z",
     "iopub.status.idle": "2025-01-16T10:01:22.534742Z",
     "shell.execute_reply": "2025-01-16T10:01:22.533513Z",
     "shell.execute_reply.started": "2025-01-16T10:01:22.512998Z"
    },
    "trusted": true
   },
   "outputs": [
    {
     "data": {
      "text/plain": [
       "Traceback (most recent call last):\n",
       "  File \"c:\\Users\\jamiu\\.vscode\\extensions\\ms-python.python-2024.22.2-win32-x64\\python_files\\python_server.py\", line 133, in exec_user_input\n",
       "    retval = callable_(user_input, user_globals)\n",
       "             ^^^^^^^^^^^^^^^^^^^^^^^^^^^^^^^^^^^\n",
       "  File \"<string>\", line 1, in <module>\n",
       "NameError: name 'clean_data' is not defined\n",
       "\n"
      ]
     },
     "metadata": {},
     "output_type": "display_data"
    }
   ],
   "source": [
    "clean_data"
   ]
  },
  {
   "cell_type": "code",
   "execution_count": 72,
   "metadata": {
    "execution": {
     "iopub.execute_input": "2025-01-16T10:01:22.536059Z",
     "iopub.status.busy": "2025-01-16T10:01:22.535766Z",
     "iopub.status.idle": "2025-01-16T10:01:22.553258Z",
     "shell.execute_reply": "2025-01-16T10:01:22.551561Z",
     "shell.execute_reply.started": "2025-01-16T10:01:22.536034Z"
    },
    "trusted": true
   },
   "outputs": [],
   "source": [
    "# TFIDF for representing data\n",
    "from sklearn.feature_extraction.text import CountVectorizer"
   ]
  },
  {
   "cell_type": "code",
   "execution_count": 73,
   "metadata": {
    "execution": {
     "iopub.execute_input": "2025-01-16T10:01:22.555078Z",
     "iopub.status.busy": "2025-01-16T10:01:22.554681Z",
     "iopub.status.idle": "2025-01-16T10:01:22.573095Z",
     "shell.execute_reply": "2025-01-16T10:01:22.572085Z",
     "shell.execute_reply.started": "2025-01-16T10:01:22.555049Z"
    },
    "trusted": true
   },
   "outputs": [],
   "source": [
    "#maximum number of count and dealing with english text data\n",
    "cv = CountVectorizer(max_features = 4800, stop_words = 'english')"
   ]
  },
  {
   "cell_type": "code",
   "execution_count": 74,
   "metadata": {
    "execution": {
     "iopub.execute_input": "2025-01-16T10:01:22.574598Z",
     "iopub.status.busy": "2025-01-16T10:01:22.574299Z",
     "iopub.status.idle": "2025-01-16T10:01:22.594707Z",
     "shell.execute_reply": "2025-01-16T10:01:22.593272Z",
     "shell.execute_reply.started": "2025-01-16T10:01:22.574573Z"
    },
    "trusted": true
   },
   "outputs": [
    {
     "data": {
      "text/plain": [
       "CountVectorizer(max_features=4800, stop_words='english')\n"
      ]
     },
     "metadata": {},
     "output_type": "display_data"
    }
   ],
   "source": [
    "cv"
   ]
  },
  {
   "cell_type": "code",
   "execution_count": 75,
   "metadata": {
    "execution": {
     "iopub.execute_input": "2025-01-16T10:01:22.596435Z",
     "iopub.status.busy": "2025-01-16T10:01:22.596065Z",
     "iopub.status.idle": "2025-01-16T10:01:23.569771Z",
     "shell.execute_reply": "2025-01-16T10:01:23.568659Z",
     "shell.execute_reply.started": "2025-01-16T10:01:22.596407Z"
    },
    "trusted": true
   },
   "outputs": [
    {
     "data": {
      "text/plain": [
       "Traceback (most recent call last):\n",
       "  File \"c:\\Users\\jamiu\\.vscode\\extensions\\ms-python.python-2024.22.2-win32-x64\\python_files\\python_server.py\", line 133, in exec_user_input\n",
       "    retval = callable_(user_input, user_globals)\n",
       "             ^^^^^^^^^^^^^^^^^^^^^^^^^^^^^^^^^^^\n",
       "  File \"<string>\", line 2, in <module>\n",
       "NameError: name 'clean_data' is not defined\n",
       "\n"
      ]
     },
     "metadata": {},
     "output_type": "display_data"
    }
   ],
   "source": [
    "#convert text to vector \n",
    "vector = cv.fit_transform(clean_data['tags'].values.astype('U')).toarray()"
   ]
  },
  {
   "cell_type": "code",
   "execution_count": 76,
   "metadata": {
    "execution": {
     "iopub.execute_input": "2025-01-16T10:01:23.571139Z",
     "iopub.status.busy": "2025-01-16T10:01:23.570806Z",
     "iopub.status.idle": "2025-01-16T10:01:23.577854Z",
     "shell.execute_reply": "2025-01-16T10:01:23.576353Z",
     "shell.execute_reply.started": "2025-01-16T10:01:23.571111Z"
    },
    "trusted": true
   },
   "outputs": [
    {
     "data": {
      "text/plain": [
       "Traceback (most recent call last):\n",
       "  File \"c:\\Users\\jamiu\\.vscode\\extensions\\ms-python.python-2024.22.2-win32-x64\\python_files\\python_server.py\", line 133, in exec_user_input\n",
       "    retval = callable_(user_input, user_globals)\n",
       "             ^^^^^^^^^^^^^^^^^^^^^^^^^^^^^^^^^^^\n",
       "  File \"<string>\", line 1, in <module>\n",
       "NameError: name 'vector' is not defined\n",
       "\n"
      ]
     },
     "metadata": {},
     "output_type": "display_data"
    }
   ],
   "source": [
    "vector.shape"
   ]
  },
  {
   "cell_type": "code",
   "execution_count": 77,
   "metadata": {
    "execution": {
     "iopub.execute_input": "2025-01-16T10:01:23.579451Z",
     "iopub.status.busy": "2025-01-16T10:01:23.579084Z",
     "iopub.status.idle": "2025-01-16T10:01:23.598268Z",
     "shell.execute_reply": "2025-01-16T10:01:23.597139Z",
     "shell.execute_reply.started": "2025-01-16T10:01:23.579410Z"
    },
    "trusted": true
   },
   "outputs": [],
   "source": [
    "#cosine similarity for movies\n",
    "from sklearn.metrics.pairwise import cosine_similarity"
   ]
  },
  {
   "cell_type": "code",
   "execution_count": 78,
   "metadata": {
    "execution": {
     "iopub.execute_input": "2025-01-16T10:01:23.599689Z",
     "iopub.status.busy": "2025-01-16T10:01:23.599318Z",
     "iopub.status.idle": "2025-01-16T10:01:31.443567Z",
     "shell.execute_reply": "2025-01-16T10:01:31.442442Z",
     "shell.execute_reply.started": "2025-01-16T10:01:23.599625Z"
    },
    "trusted": true
   },
   "outputs": [
    {
     "data": {
      "text/plain": [
       "Traceback (most recent call last):\n",
       "  File \"c:\\Users\\jamiu\\.vscode\\extensions\\ms-python.python-2024.22.2-win32-x64\\python_files\\python_server.py\", line 133, in exec_user_input\n",
       "    retval = callable_(user_input, user_globals)\n",
       "             ^^^^^^^^^^^^^^^^^^^^^^^^^^^^^^^^^^^\n",
       "  File \"<string>\", line 1, in <module>\n",
       "NameError: name 'vector' is not defined\n",
       "\n"
      ]
     },
     "metadata": {},
     "output_type": "display_data"
    }
   ],
   "source": [
    "similarity = cosine_similarity(vector)"
   ]
  },
  {
   "cell_type": "code",
   "execution_count": 79,
   "metadata": {
    "execution": {
     "iopub.execute_input": "2025-01-16T10:01:31.445065Z",
     "iopub.status.busy": "2025-01-16T10:01:31.444702Z",
     "iopub.status.idle": "2025-01-16T10:01:31.452170Z",
     "shell.execute_reply": "2025-01-16T10:01:31.451161Z",
     "shell.execute_reply.started": "2025-01-16T10:01:31.445032Z"
    },
    "trusted": true
   },
   "outputs": [
    {
     "data": {
      "text/plain": [
       "Traceback (most recent call last):\n",
       "  File \"c:\\Users\\jamiu\\.vscode\\extensions\\ms-python.python-2024.22.2-win32-x64\\python_files\\python_server.py\", line 133, in exec_user_input\n",
       "    retval = callable_(user_input, user_globals)\n",
       "             ^^^^^^^^^^^^^^^^^^^^^^^^^^^^^^^^^^^\n",
       "  File \"<string>\", line 1, in <module>\n",
       "NameError: name 'similarity' is not defined\n",
       "\n"
      ]
     },
     "metadata": {},
     "output_type": "display_data"
    }
   ],
   "source": [
    "similarity"
   ]
  },
  {
   "cell_type": "code",
   "execution_count": 80,
   "metadata": {
    "execution": {
     "iopub.execute_input": "2025-01-16T10:01:31.453435Z",
     "iopub.status.busy": "2025-01-16T10:01:31.453132Z",
     "iopub.status.idle": "2025-01-16T10:01:31.476253Z",
     "shell.execute_reply": "2025-01-16T10:01:31.475186Z",
     "shell.execute_reply.started": "2025-01-16T10:01:31.453411Z"
    },
    "trusted": true
   },
   "outputs": [
    {
     "data": {
      "text/plain": [
       "Traceback (most recent call last):\n",
       "  File \"c:\\Users\\jamiu\\.vscode\\extensions\\ms-python.python-2024.22.2-win32-x64\\python_files\\python_server.py\", line 133, in exec_user_input\n",
       "    retval = callable_(user_input, user_globals)\n",
       "             ^^^^^^^^^^^^^^^^^^^^^^^^^^^^^^^^^^^\n",
       "  File \"<string>\", line 1, in <module>\n",
       "NameError: name 'clean_data' is not defined\n",
       "\n"
      ]
     },
     "metadata": {},
     "output_type": "display_data"
    }
   ],
   "source": [
    "clean_data[clean_data['title'] == \"The Godfather\"].index[0]"
   ]
  },
  {
   "cell_type": "code",
   "execution_count": 81,
   "metadata": {
    "execution": {
     "iopub.execute_input": "2025-01-16T10:01:31.477941Z",
     "iopub.status.busy": "2025-01-16T10:01:31.477539Z",
     "iopub.status.idle": "2025-01-16T10:01:31.507597Z",
     "shell.execute_reply": "2025-01-16T10:01:31.506602Z",
     "shell.execute_reply.started": "2025-01-16T10:01:31.477907Z"
    },
    "trusted": true
   },
   "outputs": [
    {
     "data": {
      "text/plain": [
       "Traceback (most recent call last):\n",
       "  File \"c:\\Users\\jamiu\\.vscode\\extensions\\ms-python.python-2024.22.2-win32-x64\\python_files\\python_server.py\", line 133, in exec_user_input\n",
       "    retval = callable_(user_input, user_globals)\n",
       "             ^^^^^^^^^^^^^^^^^^^^^^^^^^^^^^^^^^^\n",
       "  File \"<string>\", line 1, in <module>\n",
       "NameError: name 'similarity' is not defined\n",
       "\n"
      ]
     },
     "metadata": {},
     "output_type": "display_data"
    }
   ],
   "source": [
    "distance = sorted(list(enumerate(similarity[3337])), reverse = True, key = lambda vector: vector[1])\n",
    "for i in distance[0:5]:\n",
    "    print()\n",
    "    print(clean_data.iloc[i[0]].title)"
   ]
  },
  {
   "cell_type": "code",
   "execution_count": 82,
   "metadata": {
    "execution": {
     "iopub.execute_input": "2025-01-16T10:01:31.511383Z",
     "iopub.status.busy": "2025-01-16T10:01:31.511091Z",
     "iopub.status.idle": "2025-01-16T10:01:31.528828Z",
     "shell.execute_reply": "2025-01-16T10:01:31.527826Z",
     "shell.execute_reply.started": "2025-01-16T10:01:31.511360Z"
    },
    "trusted": true
   },
   "outputs": [],
   "source": [
    "def recommender(movie):\n",
    "    index = clean_data[clean_data['title'] == movie].index[0]\n",
    "    distance = sorted(list(enumerate(similarity[index])), reverse = True, key = lambda vector: vector[1])\n",
    "    for i in distance[0:5]:\n",
    "        print()\n",
    "        print(clean_data.iloc[i[0]].title)"
   ]
  },
  {
   "cell_type": "code",
   "execution_count": 83,
   "metadata": {
    "execution": {
     "iopub.execute_input": "2025-01-16T10:01:31.530433Z",
     "iopub.status.busy": "2025-01-16T10:01:31.530146Z",
     "iopub.status.idle": "2025-01-16T10:01:31.560905Z",
     "shell.execute_reply": "2025-01-16T10:01:31.559750Z",
     "shell.execute_reply.started": "2025-01-16T10:01:31.530408Z"
    },
    "trusted": true
   },
   "outputs": [
    {
     "data": {
      "text/plain": [
       "Traceback (most recent call last):\n",
       "  File \"c:\\Users\\jamiu\\.vscode\\extensions\\ms-python.python-2024.22.2-win32-x64\\python_files\\python_server.py\", line 133, in exec_user_input\n",
       "    retval = callable_(user_input, user_globals)\n",
       "             ^^^^^^^^^^^^^^^^^^^^^^^^^^^^^^^^^^^\n",
       "  File \"<string>\", line 1, in <module>\n",
       "  File \"<string>\", line 2, in recommender\n",
       "NameError: name 'clean_data' is not defined\n",
       "\n"
      ]
     },
     "metadata": {},
     "output_type": "display_data"
    }
   ],
   "source": [
    "recommender(\"The Godfather\")"
   ]
  },
  {
   "cell_type": "code",
   "execution_count": 84,
   "metadata": {
    "execution": {
     "iopub.execute_input": "2025-01-16T10:01:31.562297Z",
     "iopub.status.busy": "2025-01-16T10:01:31.561989Z",
     "iopub.status.idle": "2025-01-16T10:01:31.580072Z",
     "shell.execute_reply": "2025-01-16T10:01:31.578997Z",
     "shell.execute_reply.started": "2025-01-16T10:01:31.562269Z"
    },
    "trusted": true
   },
   "outputs": [],
   "source": [
    "#save this file in pkl\n",
    "import pickle"
   ]
  },
  {
   "cell_type": "code",
   "execution_count": 85,
   "metadata": {
    "execution": {
     "iopub.execute_input": "2025-01-16T10:01:31.581336Z",
     "iopub.status.busy": "2025-01-16T10:01:31.581068Z",
     "iopub.status.idle": "2025-01-16T10:01:31.614027Z",
     "shell.execute_reply": "2025-01-16T10:01:31.612898Z",
     "shell.execute_reply.started": "2025-01-16T10:01:31.581313Z"
    },
    "trusted": true
   },
   "outputs": [
    {
     "data": {
      "text/plain": [
       "Traceback (most recent call last):\n",
       "  File \"c:\\Users\\jamiu\\.vscode\\extensions\\ms-python.python-2024.22.2-win32-x64\\python_files\\python_server.py\", line 133, in exec_user_input\n",
       "    retval = callable_(user_input, user_globals)\n",
       "             ^^^^^^^^^^^^^^^^^^^^^^^^^^^^^^^^^^^\n",
       "  File \"<string>\", line 2, in <module>\n",
       "NameError: name 'clean_data' is not defined\n",
       "\n"
      ]
     },
     "metadata": {},
     "output_type": "display_data"
    }
   ],
   "source": [
    "#write pkl\n",
    "pickle.dump(clean_data, open('movies_list.pkl','wb'))"
   ]
  },
  {
   "cell_type": "code",
   "execution_count": 86,
   "metadata": {
    "execution": {
     "iopub.execute_input": "2025-01-16T10:01:31.615622Z",
     "iopub.status.busy": "2025-01-16T10:01:31.615231Z",
     "iopub.status.idle": "2025-01-16T10:01:33.230495Z",
     "shell.execute_reply": "2025-01-16T10:01:33.229697Z",
     "shell.execute_reply.started": "2025-01-16T10:01:31.615588Z"
    },
    "trusted": true
   },
   "outputs": [
    {
     "data": {
      "text/plain": [
       "Traceback (most recent call last):\n",
       "  File \"c:\\Users\\jamiu\\.vscode\\extensions\\ms-python.python-2024.22.2-win32-x64\\python_files\\python_server.py\", line 133, in exec_user_input\n",
       "    retval = callable_(user_input, user_globals)\n",
       "             ^^^^^^^^^^^^^^^^^^^^^^^^^^^^^^^^^^^\n",
       "  File \"<string>\", line 1, in <module>\n",
       "NameError: name 'similarity' is not defined\n",
       "\n"
      ]
     },
     "metadata": {},
     "output_type": "display_data"
    }
   ],
   "source": [
    "pickle.dump(similarity, open('similarity.pkl','wb'))"
   ]
  },
  {
   "cell_type": "code",
   "execution_count": 87,
   "metadata": {
    "execution": {
     "iopub.execute_input": "2025-01-16T10:01:33.231587Z",
     "iopub.status.busy": "2025-01-16T10:01:33.231318Z",
     "iopub.status.idle": "2025-01-16T10:01:33.250265Z",
     "shell.execute_reply": "2025-01-16T10:01:33.249199Z",
     "shell.execute_reply.started": "2025-01-16T10:01:33.231564Z"
    },
    "trusted": true
   },
   "outputs": [
    {
     "data": {
      "text/plain": [
       "      Movie_id  ...                                               tags\n",
       "0          238  ...  Spanning the years 1945 to 1955, a chronicle o...\n",
       "1          278  ...  Framed in the 1940s for the double murder of h...\n",
       "2          240  ...  In the continuing saga of the Corleone crime f...\n",
       "3        19404  ...  Raj is a rich, carefree, happy-go-lucky second...\n",
       "4          424  ...  The true story of how businessman Oskar Schind...\n",
       "...        ...  ...                                                ...\n",
       "9975    384737  ...  After a botched heist, Eddie  a murderous crim...\n",
       "9976    282813  ...  An archaeological team attempt to unlock the s...\n",
       "9977    134375  ...  8-year-old Finn is terrified to learn his fami...\n",
       "9978     10477  ...  Talented rookie race-car driver Jimmy Bly has ...\n",
       "9979    243688  ...  A family's suburban home is invaded by angry s...\n",
       "\n",
       "[9974 rows x 3 columns]\n"
      ]
     },
     "metadata": {},
     "output_type": "display_data"
    }
   ],
   "source": [
    "#show the data \n",
    "pickle.load(open('movies_list.pkl', 'rb'))"
   ]
  },
  {
   "cell_type": "code",
   "execution_count": null,
   "metadata": {
    "trusted": true
   },
   "outputs": [],
   "source": []
  }
 ],
 "metadata": {
  "kaggle": {
   "accelerator": "none",
   "dataSources": [
    {
     "datasetId": 6492291,
     "sourceId": 10485681,
     "sourceType": "datasetVersion"
    }
   ],
   "dockerImageVersionId": 30839,
   "isGpuEnabled": false,
   "isInternetEnabled": true,
   "language": "python",
   "sourceType": "notebook"
  },
  "kernelspec": {
   "display_name": "Python 3",
   "language": "python",
   "name": "python3"
  },
  "language_info": {
   "codemirror_mode": {
    "name": "ipython",
    "version": 3
   },
   "file_extension": ".py",
   "mimetype": "text/x-python",
   "name": "python",
   "nbconvert_exporter": "python",
   "pygments_lexer": "ipython3",
   "version": "3.10.12"
  }
 },
 "nbformat": 4,
 "nbformat_minor": 4
}
